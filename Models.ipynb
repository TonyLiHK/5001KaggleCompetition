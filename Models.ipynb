{
 "cells": [
  {
   "cell_type": "code",
   "execution_count": 1,
   "id": "fa1a9dd4",
   "metadata": {},
   "outputs": [
    {
     "name": "stderr",
     "output_type": "stream",
     "text": [
      "c:\\users\\tonyl\\appdata\\local\\programs\\python\\python38\\lib\\site-packages\\setuptools\\distutils_patch.py:25: UserWarning: Distutils was imported before Setuptools. This usage is discouraged and may exhibit undesirable behaviors or errors. Please use Setuptools' objects directly or at least import Setuptools first.\n",
      "  warnings.warn(\n"
     ]
    }
   ],
   "source": [
    "import pandas as pd\n",
    "from sklearn.linear_model import LogisticRegression\n",
    "from sklearn.svm import SVC\n",
    "from sklearn.pipeline import make_pipeline\n",
    "from sklearn.preprocessing import StandardScaler\n",
    "from sklearn.ensemble import RandomForestClassifier\n",
    "from sklearn.metrics import accuracy_score\n",
    "from sklearn.model_selection import train_test_split\n",
    "from operator import itemgetter"
   ]
  },
  {
   "cell_type": "code",
   "execution_count": 2,
   "id": "e96046ef",
   "metadata": {},
   "outputs": [],
   "source": [
    "train = pd.read_csv('./data/train.csv')"
   ]
  },
  {
   "cell_type": "code",
   "execution_count": 3,
   "id": "c28bc756",
   "metadata": {},
   "outputs": [
    {
     "data": {
      "text/html": [
       "<div>\n",
       "<style scoped>\n",
       "    .dataframe tbody tr th:only-of-type {\n",
       "        vertical-align: middle;\n",
       "    }\n",
       "\n",
       "    .dataframe tbody tr th {\n",
       "        vertical-align: top;\n",
       "    }\n",
       "\n",
       "    .dataframe thead th {\n",
       "        text-align: right;\n",
       "    }\n",
       "</style>\n",
       "<table border=\"1\" class=\"dataframe\">\n",
       "  <thead>\n",
       "    <tr style=\"text-align: right;\">\n",
       "      <th></th>\n",
       "      <th></th>\n",
       "      <th>id</th>\n",
       "      <th>MO HLADR+ MFI (cells/ul)</th>\n",
       "      <th>Neu CD64+MFI (cells/ul)</th>\n",
       "      <th>CD3+T (cells/ul)</th>\n",
       "      <th>CD8+T (cells/ul)</th>\n",
       "      <th>CD4+T (cells/ul)</th>\n",
       "      <th>NK (cells/ul)</th>\n",
       "      <th>CD19+ (cells/ul)</th>\n",
       "      <th>CD45+ (cells/ul)</th>\n",
       "      <th>Age</th>\n",
       "      <th>Mono CD64+MFI (cells/ul)</th>\n",
       "    </tr>\n",
       "    <tr>\n",
       "      <th>Sex 0M1F</th>\n",
       "      <th>label</th>\n",
       "      <th></th>\n",
       "      <th></th>\n",
       "      <th></th>\n",
       "      <th></th>\n",
       "      <th></th>\n",
       "      <th></th>\n",
       "      <th></th>\n",
       "      <th></th>\n",
       "      <th></th>\n",
       "      <th></th>\n",
       "      <th></th>\n",
       "    </tr>\n",
       "  </thead>\n",
       "  <tbody>\n",
       "    <tr>\n",
       "      <th rowspan=\"2\" valign=\"top\">0</th>\n",
       "      <th>0</th>\n",
       "      <td>51.387097</td>\n",
       "      <td>1354.000000</td>\n",
       "      <td>99.000000</td>\n",
       "      <td>1004.276452</td>\n",
       "      <td>483.150968</td>\n",
       "      <td>502.179677</td>\n",
       "      <td>293.086129</td>\n",
       "      <td>122.593871</td>\n",
       "      <td>1434.754839</td>\n",
       "      <td>42.451613</td>\n",
       "      <td>1701.000000</td>\n",
       "    </tr>\n",
       "    <tr>\n",
       "      <th>1</th>\n",
       "      <td>37.714286</td>\n",
       "      <td>1109.642857</td>\n",
       "      <td>597.571429</td>\n",
       "      <td>610.707143</td>\n",
       "      <td>269.370000</td>\n",
       "      <td>365.400000</td>\n",
       "      <td>100.105714</td>\n",
       "      <td>64.545000</td>\n",
       "      <td>782.853571</td>\n",
       "      <td>41.142857</td>\n",
       "      <td>2880.000000</td>\n",
       "    </tr>\n",
       "    <tr>\n",
       "      <th rowspan=\"2\" valign=\"top\">1</th>\n",
       "      <th>0</th>\n",
       "      <td>33.703704</td>\n",
       "      <td>1485.111111</td>\n",
       "      <td>110.555556</td>\n",
       "      <td>1350.175185</td>\n",
       "      <td>670.417407</td>\n",
       "      <td>667.587037</td>\n",
       "      <td>242.642222</td>\n",
       "      <td>168.151852</td>\n",
       "      <td>1771.611481</td>\n",
       "      <td>37.000000</td>\n",
       "      <td>1790.000000</td>\n",
       "    </tr>\n",
       "    <tr>\n",
       "      <th>1</th>\n",
       "      <td>47.333333</td>\n",
       "      <td>831.466667</td>\n",
       "      <td>710.133333</td>\n",
       "      <td>623.093333</td>\n",
       "      <td>323.502000</td>\n",
       "      <td>289.908667</td>\n",
       "      <td>97.951333</td>\n",
       "      <td>72.653333</td>\n",
       "      <td>800.835333</td>\n",
       "      <td>40.533333</td>\n",
       "      <td>2536.133333</td>\n",
       "    </tr>\n",
       "  </tbody>\n",
       "</table>\n",
       "</div>"
      ],
      "text/plain": [
       "                       id  MO HLADR+ MFI (cells/ul)  Neu CD64+MFI (cells/ul)  \\\n",
       "Sex 0M1F label                                                                 \n",
       "0        0      51.387097               1354.000000                99.000000   \n",
       "         1      37.714286               1109.642857               597.571429   \n",
       "1        0      33.703704               1485.111111               110.555556   \n",
       "         1      47.333333                831.466667               710.133333   \n",
       "\n",
       "                CD3+T (cells/ul)  CD8+T (cells/ul)  CD4+T (cells/ul)  \\\n",
       "Sex 0M1F label                                                         \n",
       "0        0           1004.276452        483.150968        502.179677   \n",
       "         1            610.707143        269.370000        365.400000   \n",
       "1        0           1350.175185        670.417407        667.587037   \n",
       "         1            623.093333        323.502000        289.908667   \n",
       "\n",
       "                NK (cells/ul)  CD19+ (cells/ul)  CD45+ (cells/ul)        Age  \\\n",
       "Sex 0M1F label                                                                 \n",
       "0        0         293.086129        122.593871       1434.754839  42.451613   \n",
       "         1         100.105714         64.545000        782.853571  41.142857   \n",
       "1        0         242.642222        168.151852       1771.611481  37.000000   \n",
       "         1          97.951333         72.653333        800.835333  40.533333   \n",
       "\n",
       "                Mono CD64+MFI (cells/ul)  \n",
       "Sex 0M1F label                            \n",
       "0        0                   1701.000000  \n",
       "         1                   2880.000000  \n",
       "1        0                   1790.000000  \n",
       "         1                   2536.133333  "
      ]
     },
     "execution_count": 3,
     "metadata": {},
     "output_type": "execute_result"
    }
   ],
   "source": [
    "train.groupby(['Sex 0M1F','label']).mean()"
   ]
  },
  {
   "cell_type": "code",
   "execution_count": 207,
   "id": "3a6a51a5",
   "metadata": {},
   "outputs": [],
   "source": [
    "train.dropna(inplace=True)\n",
    "x = train.drop(['id', 'label', 'Age'], axis=1)\n",
    "y = train['label']\n",
    "\n",
    "X_train, X_val, y_train, y_val = train_test_split(x, y, test_size=0.1)"
   ]
  },
  {
   "cell_type": "code",
   "execution_count": 208,
   "id": "8ac35fb0",
   "metadata": {},
   "outputs": [
    {
     "name": "stdout",
     "output_type": "stream",
     "text": [
      "0.8888888888888888 ('l2', {0: 1, 1: 1}, LogisticRegression(class_weight={0: 1, 1: 1}, max_iter=1000))\n"
     ]
    }
   ],
   "source": [
    "class_weights = [{0:1, 1:1},{0:1, 1:2},{0:1, 1:3}]\n",
    "penal = ['l2', 'none']\n",
    "best = 0\n",
    "for p in penal:\n",
    "    for c in class_weights:\n",
    "        logis = LogisticRegression(penalty=p, class_weight=c, solver='lbfgs', max_iter=1000)\n",
    "        logis.fit(X_train, y_train)\n",
    "\n",
    "        y_pred = logis.predict(X_val)\n",
    "        acc = accuracy_score(y_val, y_pred)\n",
    "        if best < acc:\n",
    "            best = acc\n",
    "            best_comb = (p,c,logis)\n",
    "print(best, best_comb)"
   ]
  },
  {
   "cell_type": "code",
   "execution_count": 209,
   "id": "d429349a",
   "metadata": {},
   "outputs": [
    {
     "name": "stdout",
     "output_type": "stream",
     "text": [
      "{(29, 4, 8): 0.8388888888888886, (20, 5, 6): 0.8277777777777775, (23, 5, 7): 0.822222222222222, (23, 5, 8): 0.8222222222222219, (35, 6, 8): 0.8222222222222219}\n"
     ]
    }
   ],
   "source": [
    "n = 20\n",
    "est = range(20,40,1)\n",
    "feat = range(4,7)\n",
    "depth = range(2,7)\n",
    "accuracy = {}\n",
    "for epoch in range(n):\n",
    "    for d in depth:\n",
    "        for i in est:\n",
    "            for j in feat:\n",
    "                rf_model = RandomForestClassifier(max_features=j, n_estimators=i, max_depth=d)\n",
    "                rf_model.fit(X_train, y_train)\n",
    "\n",
    "                y_pred = rf_model.predict(X_val)\n",
    "                acc = accuracy_score(y_val, y_pred)\n",
    "                if (i,j,d) in accuracy:\n",
    "                    accuracy[(i,j,d)] = accuracy[(i,j,d)] + acc/n\n",
    "                else:\n",
    "                    accuracy[(i,j,d)] = acc/n\n",
    "print(dict(sorted(accuracy.items(), key = itemgetter(1), reverse = True)[:5]))"
   ]
  },
  {
   "cell_type": "code",
   "execution_count": 210,
   "id": "b6fcb723",
   "metadata": {},
   "outputs": [
    {
     "data": {
      "text/plain": [
       "RandomForestClassifier(max_depth=6, max_features=4, n_estimators=23,\n",
       "                       random_state=80)"
      ]
     },
     "execution_count": 210,
     "metadata": {},
     "output_type": "execute_result"
    }
   ],
   "source": [
    "rf_model = RandomForestClassifier(max_features=4, n_estimators=23, max_depth=6, random_state=80)\n",
    "rf_model.fit(x, y)"
   ]
  },
  {
   "cell_type": "code",
   "execution_count": 177,
   "id": "9f56d7b0",
   "metadata": {},
   "outputs": [],
   "source": [
    "test = pd.read_csv('./data/test.csv')\n",
    "X_test = test.drop(['id', 'Age'], axis=1)\n",
    "y_pred = rf_model.predict(X_test)"
   ]
  },
  {
   "cell_type": "code",
   "execution_count": 178,
   "id": "b2a92de4",
   "metadata": {},
   "outputs": [],
   "source": [
    "submission = test.assign(label=y_pred)\n",
    "submission = submission[['id', 'label']]\n",
    "submission.to_csv('./data/submission.csv', index=False)"
   ]
  },
  {
   "cell_type": "code",
   "execution_count": null,
   "id": "64cb3f32",
   "metadata": {},
   "outputs": [],
   "source": []
  }
 ],
 "metadata": {
  "kernelspec": {
   "display_name": "Python 3 (ipykernel)",
   "language": "python",
   "name": "python3"
  },
  "language_info": {
   "codemirror_mode": {
    "name": "ipython",
    "version": 3
   },
   "file_extension": ".py",
   "mimetype": "text/x-python",
   "name": "python",
   "nbconvert_exporter": "python",
   "pygments_lexer": "ipython3",
   "version": "3.8.6"
  }
 },
 "nbformat": 4,
 "nbformat_minor": 5
}
